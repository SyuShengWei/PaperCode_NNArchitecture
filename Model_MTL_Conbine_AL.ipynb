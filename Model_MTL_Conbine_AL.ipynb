{
 "cells": [
  {
   "cell_type": "code",
   "execution_count": 1,
   "metadata": {},
   "outputs": [
    {
     "name": "stderr",
     "output_type": "stream",
     "text": [
      "Using TensorFlow backend.\n"
     ]
    }
   ],
   "source": [
    "from keras.models import Sequential\n",
    "from keras.layers import LSTM, Dense, TimeDistributed\n",
    "from keras.utils import to_categorical\n",
    "import numpy as np"
   ]
  },
  {
   "cell_type": "code",
   "execution_count": 2,
   "metadata": {},
   "outputs": [],
   "source": [
    "from keras.layers import *\n",
    "from keras.models import Model\n",
    "import tensorflow as tf"
   ]
  },
  {
   "cell_type": "code",
   "execution_count": 8,
   "metadata": {},
   "outputs": [],
   "source": [
    "### Submodel for CRNN \n",
    "#CNN Size start from 2\n",
    "_num_CNNkernalSize = 3\n",
    "\n",
    "##Here is the sub model for timeDistribute layer in main model\n",
    "\n",
    "# the share layer for all time distribution CNN\n",
    "Lines_Input = Input(name= 'TextInput',shape=(20, 100, 1)) #(None,20,100,1)\n",
    "LineFeature_List = []\n",
    "for i in range(_num_CNNkernalSize):\n",
    "    #result_shape = (timestep, sentencelen(num of CNN result for each kernal), WE_dim, num_kernal) = (None,20,100,32)\n",
    "    CL  = Conv2D(32, kernel_size = (i+2,100), padding='same', activation = 'relu')(Lines_Input) \n",
    "    #max pooling for every kernal, result_shape = (None, 1, 1, 32)\n",
    "    MPL = MaxPooling2D(20,100)(CL)\n",
    "    MP_shape =  tf.shape(MPL)\n",
    "    #flatten for matching GRU input size\n",
    "    FL  = Flatten()(MPL) #result = (timestep size , )\n",
    "    LineFeature_List.append(FL)\n",
    "    \n",
    "LineFeature = concatenate(LineFeature_List)\n",
    "TextCNNMode = Model(inputs = [Lines_Input], outputs = LineFeature)"
   ]
  },
  {
   "cell_type": "code",
   "execution_count": 13,
   "metadata": {},
   "outputs": [],
   "source": [
    "###Main model \n",
    "#Lyric feature extraction, CRNN part\n",
    "Text_Input = Input(name='LyricInput', shape=(None,20, 100, 1)) #(batch_size, timestep, 20, 100 ,1)\n",
    "TD_CNN = TimeDistributed(TextCNNMode)(Text_Input)\n",
    "GRU_F = GRU(_num_CNNkernalSize*32, return_sequences=False, kernel_initializer='he_normal', name='GRU_forward')(TD_CNN)\n",
    "GRU_B = GRU(_num_CNNkernalSize*32, return_sequences=False, kernel_initializer='he_normal', name='GRU_backward', go_backwards=True)(TD_CNN)\n",
    "LF = concatenate([GRU_F, GRU_B])\n",
    "\n",
    "#pseudo-model for sheck summary\n",
    "#Softmax = Dense(50, kernel_initializer='he_normal',activation='softmax')(LF)\n",
    "#text_model = Model(inputs=[Text_Input], outputs=Softmax)"
   ]
  },
  {
   "cell_type": "code",
   "execution_count": 12,
   "metadata": {},
   "outputs": [
    {
     "name": "stdout",
     "output_type": "stream",
     "text": [
      "__________________________________________________________________________________________________\n",
      "Layer (type)                    Output Shape         Param #     Connected to                     \n",
      "==================================================================================================\n",
      "LyricInput (InputLayer)         (None, None, 20, 100 0                                            \n",
      "__________________________________________________________________________________________________\n",
      "time_distributed_3 (TimeDistrib (None, None, 96)     28896       LyricInput[0][0]                 \n",
      "__________________________________________________________________________________________________\n",
      "GRU_forward (GRU)               (None, 96)           55584       time_distributed_3[0][0]         \n",
      "__________________________________________________________________________________________________\n",
      "GRU_backward (GRU)              (None, 96)           55584       time_distributed_3[0][0]         \n",
      "__________________________________________________________________________________________________\n",
      "concatenate_5 (Concatenate)     (None, 192)          0           GRU_forward[0][0]                \n",
      "                                                                 GRU_backward[0][0]               \n",
      "__________________________________________________________________________________________________\n",
      "dense_1 (Dense)                 (None, 50)           9650        concatenate_5[0][0]              \n",
      "==================================================================================================\n",
      "Total params: 149,714\n",
      "Trainable params: 149,714\n",
      "Non-trainable params: 0\n",
      "__________________________________________________________________________________________________\n"
     ]
    }
   ],
   "source": [
    "text_model.summary()"
   ]
  },
  {
   "cell_type": "code",
   "execution_count": 17,
   "metadata": {},
   "outputs": [],
   "source": [
    "###Main model \n",
    "#Audio feature extraction, FCN part\n",
    "_mel_scale = 96\n",
    "_time_len = 1292\n",
    "_channels = 1\n",
    "\n",
    "Spectrogram_Input = Input(name= 'AudioInput',shape=(_mel_scale, _time_len, _channels)) #(None(1), 96, 1292, 1)\n",
    "CL_1 = Conv2D(128, kernel_size=(3, 3),padding='same', activation = 'relu', name = \"CL_1\")(Spectrogram_Input) #(None, 96, 1292, 128) \n",
    "BN_1 = BatchNormalization()(CL_1)\n",
    "MP_1 = MaxPool2D(pool_size= (2,4), name = \"MPL_1\")(BN_1) #(None, 48, 323, 128)\n",
    "DP_1 = Dropout(0.5)(MP_1)\n",
    "\n",
    "CL_2 = Conv2D(384, kernel_size=(3, 3),padding='same', activation = 'relu', name = \"CL_2\")(DP_1) # (None, 48, 323, 384) \n",
    "BN_2 = BatchNormalization()(CL_2)\n",
    "MP_2 = MaxPool2D(pool_size= (4,5), name = \"MPL_2\")(BN_2) # (None, 12, 64, 384) \n",
    "DP_2 = Dropout(0.5)(MP_2)\n",
    "\n",
    "CL_3 = Conv2D(768, kernel_size=(3, 3),padding='same', activation = 'relu', name = \"CL_3\")(DP_2) #(None, 12, 64, 768) \n",
    "BN_3 = BatchNormalization()(CL_3)\n",
    "MP_3 = MaxPool2D(pool_size= (3,8), name = \"MPL_3\")(BN_3) #(None, 4, 8, 768)\n",
    "DP_3 = Dropout(0.5)(MP_3)\n",
    "\n",
    "CL_4 = Conv2D(2048, kernel_size=(3, 3),padding='same', activation = 'relu', name = \"CL_4\")(DP_3) #(None, 4, 8, 2048) \n",
    "BN_4 = BatchNormalization()(CL_4)\n",
    "MP_4 = MaxPool2D(pool_size= (4,8), name = \"MPL_4\")(BN_4)#(None, 1, 1, 2048) \n",
    "DP_4 = Dropout(0.5)(MP_4)\n",
    "\n",
    "AF = Flatten()(DP_4) # (None, 2048) \n",
    "#pseudo-model for sheck summary\n",
    "#Softmax = Dense(50, kernel_initializer='he_normal',activation='softmax')(AF)\n",
    "#audio_model = Model(inputs=[Spectrogram_Input], outputs=Softmax)"
   ]
  },
  {
   "cell_type": "code",
   "execution_count": 16,
   "metadata": {},
   "outputs": [
    {
     "name": "stdout",
     "output_type": "stream",
     "text": [
      "_________________________________________________________________\n",
      "Layer (type)                 Output Shape              Param #   \n",
      "=================================================================\n",
      "AudioInput (InputLayer)      (None, 96, 1292, 1)       0         \n",
      "_________________________________________________________________\n",
      "CL_1 (Conv2D)                (None, 96, 1292, 128)     1280      \n",
      "_________________________________________________________________\n",
      "batch_normalization_5 (Batch (None, 96, 1292, 128)     512       \n",
      "_________________________________________________________________\n",
      "MPL_1 (MaxPooling2D)         (None, 48, 323, 128)      0         \n",
      "_________________________________________________________________\n",
      "dropout_5 (Dropout)          (None, 48, 323, 128)      0         \n",
      "_________________________________________________________________\n",
      "CL_2 (Conv2D)                (None, 48, 323, 384)      442752    \n",
      "_________________________________________________________________\n",
      "batch_normalization_6 (Batch (None, 48, 323, 384)      1536      \n",
      "_________________________________________________________________\n",
      "MPL_2 (MaxPooling2D)         (None, 12, 64, 384)       0         \n",
      "_________________________________________________________________\n",
      "dropout_6 (Dropout)          (None, 12, 64, 384)       0         \n",
      "_________________________________________________________________\n",
      "CL_3 (Conv2D)                (None, 12, 64, 768)       2654976   \n",
      "_________________________________________________________________\n",
      "batch_normalization_7 (Batch (None, 12, 64, 768)       3072      \n",
      "_________________________________________________________________\n",
      "MPL_3 (MaxPooling2D)         (None, 4, 8, 768)         0         \n",
      "_________________________________________________________________\n",
      "dropout_7 (Dropout)          (None, 4, 8, 768)         0         \n",
      "_________________________________________________________________\n",
      "CL_4 (Conv2D)                (None, 4, 8, 2048)        14157824  \n",
      "_________________________________________________________________\n",
      "batch_normalization_8 (Batch (None, 4, 8, 2048)        8192      \n",
      "_________________________________________________________________\n",
      "MPL_4 (MaxPooling2D)         (None, 1, 1, 2048)        0         \n",
      "_________________________________________________________________\n",
      "dropout_8 (Dropout)          (None, 1, 1, 2048)        0         \n",
      "_________________________________________________________________\n",
      "flatten_8 (Flatten)          (None, 2048)              0         \n",
      "_________________________________________________________________\n",
      "dense_2 (Dense)              (None, 50)                102450    \n",
      "=================================================================\n",
      "Total params: 17,372,594\n",
      "Trainable params: 17,365,938\n",
      "Non-trainable params: 6,656\n",
      "_________________________________________________________________\n"
     ]
    }
   ],
   "source": [
    "audio_model.summary()"
   ]
  },
  {
   "cell_type": "markdown",
   "metadata": {},
   "source": [
    "Total params: 17,372,594\n",
    "Trainable params: 17,365,938\n",
    "Non-trainable params: 6,656\n",
    "_____________________________"
   ]
  },
  {
   "cell_type": "code",
   "execution_count": 18,
   "metadata": {},
   "outputs": [],
   "source": [
    "#Main model\n",
    "_num_Tags = 50\n",
    "_num_neural = 2\n",
    "\n",
    "SF = concatenate([AF,LF]) # Song feature for all song\n",
    "\n",
    "Output_Layers = []\n",
    "# add MLT classifer\n",
    "for i in range(_num_Tags):\n",
    "    MTL_L = Dense(_num_neural, activation='sigmoid', name='Tag_'+str(i+1))(SF)\n",
    "    Output_Layers.append(MTL_L)\n",
    "\n",
    "Main_model = Model(inputs=[Text_Input,Spectrogram_Input], outputs=Output_Layers)"
   ]
  },
  {
   "cell_type": "code",
   "execution_count": 19,
   "metadata": {},
   "outputs": [
    {
     "name": "stdout",
     "output_type": "stream",
     "text": [
      "__________________________________________________________________________________________________\n",
      "Layer (type)                    Output Shape         Param #     Connected to                     \n",
      "==================================================================================================\n",
      "AudioInput (InputLayer)         (None, 96, 1292, 1)  0                                            \n",
      "__________________________________________________________________________________________________\n",
      "CL_1 (Conv2D)                   (None, 96, 1292, 128 1280        AudioInput[0][0]                 \n",
      "__________________________________________________________________________________________________\n",
      "batch_normalization_9 (BatchNor (None, 96, 1292, 128 512         CL_1[0][0]                       \n",
      "__________________________________________________________________________________________________\n",
      "MPL_1 (MaxPooling2D)            (None, 48, 323, 128) 0           batch_normalization_9[0][0]      \n",
      "__________________________________________________________________________________________________\n",
      "dropout_9 (Dropout)             (None, 48, 323, 128) 0           MPL_1[0][0]                      \n",
      "__________________________________________________________________________________________________\n",
      "CL_2 (Conv2D)                   (None, 48, 323, 384) 442752      dropout_9[0][0]                  \n",
      "__________________________________________________________________________________________________\n",
      "batch_normalization_10 (BatchNo (None, 48, 323, 384) 1536        CL_2[0][0]                       \n",
      "__________________________________________________________________________________________________\n",
      "MPL_2 (MaxPooling2D)            (None, 12, 64, 384)  0           batch_normalization_10[0][0]     \n",
      "__________________________________________________________________________________________________\n",
      "dropout_10 (Dropout)            (None, 12, 64, 384)  0           MPL_2[0][0]                      \n",
      "__________________________________________________________________________________________________\n",
      "CL_3 (Conv2D)                   (None, 12, 64, 768)  2654976     dropout_10[0][0]                 \n",
      "__________________________________________________________________________________________________\n",
      "batch_normalization_11 (BatchNo (None, 12, 64, 768)  3072        CL_3[0][0]                       \n",
      "__________________________________________________________________________________________________\n",
      "MPL_3 (MaxPooling2D)            (None, 4, 8, 768)    0           batch_normalization_11[0][0]     \n",
      "__________________________________________________________________________________________________\n",
      "dropout_11 (Dropout)            (None, 4, 8, 768)    0           MPL_3[0][0]                      \n",
      "__________________________________________________________________________________________________\n",
      "CL_4 (Conv2D)                   (None, 4, 8, 2048)   14157824    dropout_11[0][0]                 \n",
      "__________________________________________________________________________________________________\n",
      "batch_normalization_12 (BatchNo (None, 4, 8, 2048)   8192        CL_4[0][0]                       \n",
      "__________________________________________________________________________________________________\n",
      "LyricInput (InputLayer)         (None, None, 20, 100 0                                            \n",
      "__________________________________________________________________________________________________\n",
      "MPL_4 (MaxPooling2D)            (None, 1, 1, 2048)   0           batch_normalization_12[0][0]     \n",
      "__________________________________________________________________________________________________\n",
      "time_distributed_4 (TimeDistrib (None, None, 96)     28896       LyricInput[0][0]                 \n",
      "__________________________________________________________________________________________________\n",
      "dropout_12 (Dropout)            (None, 1, 1, 2048)   0           MPL_4[0][0]                      \n",
      "__________________________________________________________________________________________________\n",
      "GRU_forward (GRU)               (None, 96)           55584       time_distributed_4[0][0]         \n",
      "__________________________________________________________________________________________________\n",
      "GRU_backward (GRU)              (None, 96)           55584       time_distributed_4[0][0]         \n",
      "__________________________________________________________________________________________________\n",
      "flatten_9 (Flatten)             (None, 2048)         0           dropout_12[0][0]                 \n",
      "__________________________________________________________________________________________________\n",
      "concatenate_6 (Concatenate)     (None, 192)          0           GRU_forward[0][0]                \n",
      "                                                                 GRU_backward[0][0]               \n",
      "__________________________________________________________________________________________________\n",
      "concatenate_7 (Concatenate)     (None, 2240)         0           flatten_9[0][0]                  \n",
      "                                                                 concatenate_6[0][0]              \n",
      "__________________________________________________________________________________________________\n",
      "Tag_1 (Dense)                   (None, 2)            4482        concatenate_7[0][0]              \n",
      "__________________________________________________________________________________________________\n",
      "Tag_2 (Dense)                   (None, 2)            4482        concatenate_7[0][0]              \n",
      "__________________________________________________________________________________________________\n",
      "Tag_3 (Dense)                   (None, 2)            4482        concatenate_7[0][0]              \n",
      "__________________________________________________________________________________________________\n",
      "Tag_4 (Dense)                   (None, 2)            4482        concatenate_7[0][0]              \n",
      "__________________________________________________________________________________________________\n",
      "Tag_5 (Dense)                   (None, 2)            4482        concatenate_7[0][0]              \n",
      "__________________________________________________________________________________________________\n",
      "Tag_6 (Dense)                   (None, 2)            4482        concatenate_7[0][0]              \n",
      "__________________________________________________________________________________________________\n",
      "Tag_7 (Dense)                   (None, 2)            4482        concatenate_7[0][0]              \n",
      "__________________________________________________________________________________________________\n",
      "Tag_8 (Dense)                   (None, 2)            4482        concatenate_7[0][0]              \n",
      "__________________________________________________________________________________________________\n",
      "Tag_9 (Dense)                   (None, 2)            4482        concatenate_7[0][0]              \n",
      "__________________________________________________________________________________________________\n",
      "Tag_10 (Dense)                  (None, 2)            4482        concatenate_7[0][0]              \n",
      "__________________________________________________________________________________________________\n",
      "Tag_11 (Dense)                  (None, 2)            4482        concatenate_7[0][0]              \n",
      "__________________________________________________________________________________________________\n",
      "Tag_12 (Dense)                  (None, 2)            4482        concatenate_7[0][0]              \n",
      "__________________________________________________________________________________________________\n",
      "Tag_13 (Dense)                  (None, 2)            4482        concatenate_7[0][0]              \n",
      "__________________________________________________________________________________________________\n",
      "Tag_14 (Dense)                  (None, 2)            4482        concatenate_7[0][0]              \n",
      "__________________________________________________________________________________________________\n",
      "Tag_15 (Dense)                  (None, 2)            4482        concatenate_7[0][0]              \n",
      "__________________________________________________________________________________________________\n",
      "Tag_16 (Dense)                  (None, 2)            4482        concatenate_7[0][0]              \n",
      "__________________________________________________________________________________________________\n",
      "Tag_17 (Dense)                  (None, 2)            4482        concatenate_7[0][0]              \n",
      "__________________________________________________________________________________________________\n",
      "Tag_18 (Dense)                  (None, 2)            4482        concatenate_7[0][0]              \n",
      "__________________________________________________________________________________________________\n",
      "Tag_19 (Dense)                  (None, 2)            4482        concatenate_7[0][0]              \n",
      "__________________________________________________________________________________________________\n",
      "Tag_20 (Dense)                  (None, 2)            4482        concatenate_7[0][0]              \n",
      "__________________________________________________________________________________________________\n",
      "Tag_21 (Dense)                  (None, 2)            4482        concatenate_7[0][0]              \n",
      "__________________________________________________________________________________________________\n",
      "Tag_22 (Dense)                  (None, 2)            4482        concatenate_7[0][0]              \n",
      "__________________________________________________________________________________________________\n",
      "Tag_23 (Dense)                  (None, 2)            4482        concatenate_7[0][0]              \n",
      "__________________________________________________________________________________________________\n",
      "Tag_24 (Dense)                  (None, 2)            4482        concatenate_7[0][0]              \n",
      "__________________________________________________________________________________________________\n",
      "Tag_25 (Dense)                  (None, 2)            4482        concatenate_7[0][0]              \n",
      "__________________________________________________________________________________________________\n",
      "Tag_26 (Dense)                  (None, 2)            4482        concatenate_7[0][0]              \n",
      "__________________________________________________________________________________________________\n",
      "Tag_27 (Dense)                  (None, 2)            4482        concatenate_7[0][0]              \n",
      "__________________________________________________________________________________________________\n",
      "Tag_28 (Dense)                  (None, 2)            4482        concatenate_7[0][0]              \n",
      "__________________________________________________________________________________________________\n",
      "Tag_29 (Dense)                  (None, 2)            4482        concatenate_7[0][0]              \n",
      "__________________________________________________________________________________________________\n",
      "Tag_30 (Dense)                  (None, 2)            4482        concatenate_7[0][0]              \n",
      "__________________________________________________________________________________________________\n",
      "Tag_31 (Dense)                  (None, 2)            4482        concatenate_7[0][0]              \n",
      "__________________________________________________________________________________________________\n",
      "Tag_32 (Dense)                  (None, 2)            4482        concatenate_7[0][0]              \n",
      "__________________________________________________________________________________________________\n",
      "Tag_33 (Dense)                  (None, 2)            4482        concatenate_7[0][0]              \n",
      "__________________________________________________________________________________________________\n",
      "Tag_34 (Dense)                  (None, 2)            4482        concatenate_7[0][0]              \n",
      "__________________________________________________________________________________________________\n",
      "Tag_35 (Dense)                  (None, 2)            4482        concatenate_7[0][0]              \n",
      "__________________________________________________________________________________________________\n",
      "Tag_36 (Dense)                  (None, 2)            4482        concatenate_7[0][0]              \n",
      "__________________________________________________________________________________________________\n",
      "Tag_37 (Dense)                  (None, 2)            4482        concatenate_7[0][0]              \n",
      "__________________________________________________________________________________________________\n",
      "Tag_38 (Dense)                  (None, 2)            4482        concatenate_7[0][0]              \n",
      "__________________________________________________________________________________________________\n",
      "Tag_39 (Dense)                  (None, 2)            4482        concatenate_7[0][0]              \n",
      "__________________________________________________________________________________________________\n",
      "Tag_40 (Dense)                  (None, 2)            4482        concatenate_7[0][0]              \n",
      "__________________________________________________________________________________________________\n",
      "Tag_41 (Dense)                  (None, 2)            4482        concatenate_7[0][0]              \n",
      "__________________________________________________________________________________________________\n",
      "Tag_42 (Dense)                  (None, 2)            4482        concatenate_7[0][0]              \n",
      "__________________________________________________________________________________________________\n",
      "Tag_43 (Dense)                  (None, 2)            4482        concatenate_7[0][0]              \n",
      "__________________________________________________________________________________________________\n",
      "Tag_44 (Dense)                  (None, 2)            4482        concatenate_7[0][0]              \n",
      "__________________________________________________________________________________________________\n",
      "Tag_45 (Dense)                  (None, 2)            4482        concatenate_7[0][0]              \n",
      "__________________________________________________________________________________________________\n",
      "Tag_46 (Dense)                  (None, 2)            4482        concatenate_7[0][0]              \n",
      "__________________________________________________________________________________________________\n",
      "Tag_47 (Dense)                  (None, 2)            4482        concatenate_7[0][0]              \n",
      "__________________________________________________________________________________________________\n",
      "Tag_48 (Dense)                  (None, 2)            4482        concatenate_7[0][0]              \n",
      "__________________________________________________________________________________________________\n",
      "Tag_49 (Dense)                  (None, 2)            4482        concatenate_7[0][0]              \n",
      "__________________________________________________________________________________________________\n",
      "Tag_50 (Dense)                  (None, 2)            4482        concatenate_7[0][0]              \n",
      "==================================================================================================\n",
      "Total params: 17,634,308\n",
      "Trainable params: 17,627,652\n",
      "Non-trainable params: 6,656\n",
      "__________________________________________________________________________________________________\n"
     ]
    }
   ],
   "source": [
    "Main_model.summary()"
   ]
  },
  {
   "cell_type": "code",
   "execution_count": 24,
   "metadata": {},
   "outputs": [],
   "source": [
    "import os \n",
    "os_AudioSpectrogram = './Spectrogram'\n",
    "os_LineMatrix = './LineMatrix'"
   ]
  },
  {
   "cell_type": "code",
   "execution_count": 25,
   "metadata": {},
   "outputs": [
    {
     "data": {
      "text/plain": [
       "'./LineMatrix'"
      ]
     },
     "execution_count": 25,
     "metadata": {},
     "output_type": "execute_result"
    }
   ],
   "source": [
    "os_LineMatrix"
   ]
  },
  {
   "cell_type": "code",
   "execution_count": 26,
   "metadata": {},
   "outputs": [],
   "source": [
    "import json \n",
    "import codecs\n",
    "from sklearn.model_selection import train_test_split\n",
    "\n",
    "with codecs.open(\"VectorizeTagTraing_50d_Dic.json\",'r',encoding = 'utf8') as infile:\n",
    "    Tag_Data = json.load(infile)\n",
    "Data_Set = [[x.replace('.json',''), Tag_Data[x.replace('.json','')]] for x in os.listdir(os_LineMatrix)]\n",
    "x_Text_List = np.array([x[0] for x in Data_Set])\n",
    "y_Text_List = np.array([y[1] for y in Data_Set])\n",
    "x_train , x_test, y_train, y_test = train_test_split(x_Text_List, y_Text_List, test_size=0.2, random_state=100)"
   ]
  },
  {
   "cell_type": "code",
   "execution_count": 27,
   "metadata": {},
   "outputs": [],
   "source": [
    "from keras.utils import Sequence\n",
    "import json\n",
    "import codecs\n",
    "\n",
    "class LyricDataGenerator(Sequence):\n",
    "    #batch size can only be 1\n",
    "    def __init__(self, text_filenames, labels):\n",
    "        self.text_filenames, self.labels = text_filenames, labels\n",
    "\n",
    "    def __len__(self):\n",
    "        return len(self.text_filenames)\n",
    "\n",
    "    def __getitem__(self, idx):\n",
    "        #Here, you have to imprement what the data looks like in each epcho\n",
    "        filename = self.text_filenames[idx]\n",
    "        with codecs.open(os.path.join(os_LineMatrix,filename),'r',encoding = 'utf8') as infile:\n",
    "            batch_x = np.array(json.load(infile))\n",
    "        batch_x = batch_x.reshape(len(batch_x),20,100,1)\n",
    "        \n",
    "        batch_y = self.labels[idx]\n",
    "\n",
    "        return np.array([batch_x]), np.array([batch_y])\n",
    "    def getitem(self, idx):\n",
    "        #Here, you have to imprement what the data looks like in each epcho\n",
    "        \n",
    "        return self.__getitem__(idx)"
   ]
  },
  {
   "cell_type": "code",
   "execution_count": 28,
   "metadata": {},
   "outputs": [],
   "source": [
    "testLDG = LyricDataGenerator(x_train,y_train)"
   ]
  },
  {
   "cell_type": "code",
   "execution_count": 29,
   "metadata": {},
   "outputs": [],
   "source": [
    "LDG_x , LDG_y = testLDG.getitem(0)"
   ]
  },
  {
   "cell_type": "code",
   "execution_count": 30,
   "metadata": {},
   "outputs": [
    {
     "name": "stdout",
     "output_type": "stream",
     "text": [
      "(1, 40, 20, 100, 1)\n",
      "(1, 50)\n"
     ]
    }
   ],
   "source": [
    "print(LDG_x.shape)\n",
    "print(LDG_y.shape)"
   ]
  },
  {
   "cell_type": "code",
   "execution_count": 31,
   "metadata": {},
   "outputs": [],
   "source": [
    "class AudioDataGenerator(Sequence):\n",
    "    #batch size can only be 1\n",
    "    def __init__(self, text_filenames, labels):\n",
    "        self.text_filenames, self.labels = text_filenames, labels\n",
    "\n",
    "    def __len__(self):\n",
    "        return len(self.text_filenames)\n",
    "\n",
    "    def __getitem__(self, idx):\n",
    "        #Here, you have to imprement what the data looks like in each epcho\n",
    "        filename = self.text_filenames[idx]\n",
    "        with codecs.open(os.path.join(os_AudioSpectrogram,filename),'r',encoding = 'utf8') as infile:\n",
    "            batch_x = np.array(json.load(infile)).reshape(96, 1292, 1)\n",
    "        \n",
    "        batch_y = self.labels[idx]\n",
    "\n",
    "        return np.array([batch_x]), np.array([batch_y])\n",
    "    def getitem(self, idx):\n",
    "        #Here, you have to imprement what the data looks like in each epcho\n",
    "        \n",
    "        return self.__getitem__(idx)"
   ]
  },
  {
   "cell_type": "code",
   "execution_count": 32,
   "metadata": {},
   "outputs": [],
   "source": [
    "class SongDataGenerator(Sequence):\n",
    "    #batch size can only be 1\n",
    "    def __init__(self, text_filenames, labels):\n",
    "        self.text_filenames, self.labels = text_filenames, labels\n",
    "\n",
    "    def __len__(self):\n",
    "        return len(self.text_filenames)\n",
    "\n",
    "    def __getitem__(self, idx):\n",
    "        #Here, you have to imprement what the data looks like in each epcho\n",
    "        filename = self.text_filenames[idx]\n",
    "        \n",
    "        with codecs.open(os.path.join(os_LineMatrix,filename),'r',encoding = 'utf8') as infile:\n",
    "            Text_batch_x = np.array(json.load(infile))\n",
    "        Text_batch_x = Text_batch_x.reshape(len(Text_batch_x),20,100,1) #(num_sentence, 20 word ,100dim WE, 1for cnn)\n",
    "        \n",
    "        with codecs.open(os.path.join(os_AudioSpectrogram,filename),'r',encoding = 'utf8') as infile:\n",
    "            Audio_batch_x = np.array(json.load(infile)).reshape(96, 1292, 1) #(96mel scale , 1292 time window)\n",
    "        \n",
    "        MLT_y = []\n",
    "        \n",
    "        batch_y = self.labels[idx]\n",
    "        for gt in batch_y:\n",
    "            binary_gt = 0 if gt == 1 else 1\n",
    "            MLT_y.append(np.array([[gt, binary_gt]]))\n",
    "        \n",
    "        \n",
    "        return [np.array([Text_batch_x]), np.array([Audio_batch_x])], MLT_y\n",
    "    def getitem(self, idx):\n",
    "        #Here, you have to imprement what the data looks like in each epcho\n",
    "        \n",
    "        return self.__getitem__(idx)"
   ]
  },
  {
   "cell_type": "code",
   "execution_count": 33,
   "metadata": {},
   "outputs": [],
   "source": [
    "SDG = SongDataGenerator(x_train,y_train)"
   ]
  },
  {
   "cell_type": "code",
   "execution_count": 34,
   "metadata": {},
   "outputs": [],
   "source": [
    "SDG_x, SDG_y = SDG.getitem(0)"
   ]
  },
  {
   "cell_type": "code",
   "execution_count": 35,
   "metadata": {},
   "outputs": [
    {
     "data": {
      "text/plain": [
       "(1, 40, 20, 100, 1)"
      ]
     },
     "execution_count": 35,
     "metadata": {},
     "output_type": "execute_result"
    }
   ],
   "source": [
    "SDG_x[0].shape"
   ]
  },
  {
   "cell_type": "code",
   "execution_count": 36,
   "metadata": {},
   "outputs": [
    {
     "data": {
      "text/plain": [
       "(1, 2)"
      ]
     },
     "execution_count": 36,
     "metadata": {},
     "output_type": "execute_result"
    }
   ],
   "source": [
    "SDG_y[0].shape"
   ]
  },
  {
   "cell_type": "code",
   "execution_count": 37,
   "metadata": {},
   "outputs": [
    {
     "data": {
      "text/plain": [
       "(1, 96, 1292, 1)"
      ]
     },
     "execution_count": 37,
     "metadata": {},
     "output_type": "execute_result"
    }
   ],
   "source": [
    "SDG_x[1].shape"
   ]
  },
  {
   "cell_type": "code",
   "execution_count": 38,
   "metadata": {},
   "outputs": [],
   "source": [
    "SDG_train = SongDataGenerator(x_train, y_train)\n",
    "SDG_test = SongDataGenerator(x_test, y_test)"
   ]
  },
  {
   "cell_type": "code",
   "execution_count": 39,
   "metadata": {},
   "outputs": [],
   "source": [
    "epochs = 10"
   ]
  },
  {
   "cell_type": "code",
   "execution_count": 40,
   "metadata": {},
   "outputs": [],
   "source": [
    "Main_model.compile(loss='binary_crossentropy',\n",
    "              optimizer='adam',\n",
    "              metrics=['accuracy'])"
   ]
  },
  {
   "cell_type": "code",
   "execution_count": null,
   "metadata": {},
   "outputs": [
    {
     "name": "stdout",
     "output_type": "stream",
     "text": [
      "Epoch 1/10\n"
     ]
    }
   ],
   "source": [
    "Main_model.fit_generator(generator=SDG_train,\n",
    "                    #steps_per_epoch=(num_training_samples // batch_size),\n",
    "                    epochs=epochs,\n",
    "                    verbose=1,\n",
    "                    validation_data=SDG_test,                      \n",
    "                    #validation_steps=(num_validation_samples // batch_size),\n",
    "                    )"
   ]
  },
  {
   "cell_type": "code",
   "execution_count": null,
   "metadata": {},
   "outputs": [],
   "source": []
  }
 ],
 "metadata": {
  "kernelspec": {
   "display_name": "Python 3",
   "language": "python",
   "name": "python3"
  },
  "language_info": {
   "codemirror_mode": {
    "name": "ipython",
    "version": 3
   },
   "file_extension": ".py",
   "mimetype": "text/x-python",
   "name": "python",
   "nbconvert_exporter": "python",
   "pygments_lexer": "ipython3",
   "version": "3.6.8"
  }
 },
 "nbformat": 4,
 "nbformat_minor": 2
}
